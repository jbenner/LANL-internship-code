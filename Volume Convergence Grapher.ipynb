{
 "cells": [
  {
   "cell_type": "code",
   "execution_count": 12,
   "id": "34adf3f3-a902-4736-93ff-1d0394da54a1",
   "metadata": {},
   "outputs": [
    {
     "ename": "SyntaxError",
     "evalue": "invalid syntax. Perhaps you forgot a comma? (417767469.py, line 6)",
     "output_type": "error",
     "traceback": [
      "\u001b[1;36m  Cell \u001b[1;32mIn[12], line 6\u001b[1;36m\u001b[0m\n\u001b[1;33m    results = [data goes here]\u001b[0m\n\u001b[1;37m               ^\u001b[0m\n\u001b[1;31mSyntaxError\u001b[0m\u001b[1;31m:\u001b[0m invalid syntax. Perhaps you forgot a comma?\n"
     ]
    }
   ],
   "source": [
    "import matplotlib.pyplot as plt\n",
    "import numpy as np\n",
    "\n",
    "# Data\n",
    "m_values = [1, 2, 4, 8, 16, 32]\n",
    "results = [data goes here]\n",
    "actual_value = np.pi / whatever\n",
    "\n",
    "# Plot\n",
    "plt.figure(figsize=(8, 6))\n",
    "plt.plot(m_values, results, marker='o', linestyle='-', linewidth=2, color='black', label='Estimated Volume')\n",
    "plt.axhline(y=actual_value, color='red', linestyle='--', linewidth=2,\n",
    "            label='Exact Solution (π/whatever)'.format(actual_value))\n",
    "\n",
    "# Use log scale base 2 and manually set ticks\n",
    "plt.xscale('log', base=2)\n",
    "plt.xticks(m_values, labels=[str(m) for m in m_values])  # Explicitly label only the m-values\n",
    "\n",
    "# Axis limits and labels\n",
    "plt.ylim(lower, upper)\n",
    "plt.xlabel('Number of Particles Used')\n",
    "plt.ylabel('Volume of the Object')\n",
    "plt.title('Object/Cube Convergence')\n",
    "plt.grid(True, which='both', linestyle='--', alpha=0.6)\n",
    "plt.legend()\n",
    "plt.tight_layout()\n",
    "plt.savefig('Object_Convergence.png', dpi=300)\n",
    "plt.show()"
   ]
  },
  {
   "cell_type": "code",
   "execution_count": null,
   "id": "9ec45a7c-24d3-4efc-9a1d-e5172970780e",
   "metadata": {},
   "outputs": [],
   "source": []
  }
 ],
 "metadata": {
  "kernelspec": {
   "display_name": "Python 3 (ipykernel)",
   "language": "python",
   "name": "python3"
  },
  "language_info": {
   "codemirror_mode": {
    "name": "ipython",
    "version": 3
   },
   "file_extension": ".py",
   "mimetype": "text/x-python",
   "name": "python",
   "nbconvert_exporter": "python",
   "pygments_lexer": "ipython3",
   "version": "3.11.7"
  }
 },
 "nbformat": 4,
 "nbformat_minor": 5
}
